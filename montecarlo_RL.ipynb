{
 "cells": [
  {
   "cell_type": "code",
   "execution_count": 75,
   "metadata": {},
   "outputs": [
    {
     "name": "stdout",
     "output_type": "stream",
     "text": [
      "Populating the interactive namespace from numpy and matplotlib\n"
     ]
    }
   ],
   "source": [
    "%pylab inline\n",
    "import random"
   ]
  },
  {
   "cell_type": "markdown",
   "metadata": {},
   "source": [
    "## Solution\n",
    "\n",
    "We use Monte Carlo RL to solve the Problem Statement"
   ]
  },
  {
   "cell_type": "code",
   "execution_count": 76,
   "metadata": {},
   "outputs": [],
   "source": [
    "gamma = 1.0\n",
    "actions = array([[-1,0],[0,-1],[1,0],[0,1]])\n",
    "end_state = array([[0,0],[3,3]])\n",
    "n_games = 10000"
   ]
  },
  {
   "cell_type": "code",
   "execution_count": 77,
   "metadata": {},
   "outputs": [
    {
     "name": "stdout",
     "output_type": "stream",
     "text": [
      "Populating the interactive namespace from numpy and matplotlib\n"
     ]
    }
   ],
   "source": [
    "%pylab inline"
   ]
  },
  {
   "cell_type": "code",
   "execution_count": 78,
   "metadata": {},
   "outputs": [
    {
     "name": "stdout",
     "output_type": "stream",
     "text": [
      "[[0, 0], [0, 1], [0, 2], [0, 3], [1, 0], [1, 1], [1, 2], [1, 3], [2, 0], [2, 1], [2, 2], [2, 3], [3, 0], [3, 1], [3, 2], [3, 3]]\n",
      "{(0, 0): [], (0, 1): [], (0, 2): [], (0, 3): [], (1, 0): [], (1, 1): [], (1, 2): [], (1, 3): [], (2, 0): [], (2, 1): [], (2, 2): [], (2, 3): [], (3, 0): [], (3, 1): [], (3, 2): [], (3, 3): []}\n"
     ]
    }
   ],
   "source": [
    "'''\n",
    "Policy map creation and states initialisation\n",
    "'''\n",
    "p_map = np.zeros((4,4))\n",
    "returns = {}\n",
    "states = []\n",
    "for i in range (0,4):\n",
    "    for j in range (0,4):\n",
    "        states.append([i,j])\n",
    "returns = {(i, j):list() for i in range(0,4) for j in range(0,4)}\n",
    "print(states)\n",
    "print(returns)\n",
    "\n"
   ]
  },
  {
   "cell_type": "code",
   "execution_count": 79,
   "metadata": {},
   "outputs": [
    {
     "name": "stdout",
     "output_type": "stream",
     "text": [
      "Wall time: 11.9 s\n"
     ]
    }
   ],
   "source": [
    "%%time\n",
    "import random\n",
    "from IPython.display import clear_output\n",
    "decay = {(i, j):list() for i in range(0,4) for j in range(0,4)}\n",
    "gamma = 0.6\n",
    "for j in range(0,n_games+1):\n",
    "    g = 0\n",
    "    episode = []\n",
    "    done = False\n",
    "    init_state = random.choice([[1,0],[1,1],[1,2],[1,3],[0,1],[0,2],[0,3],[2,0],[2,1],[2,2],[2,3],[3,0],[3,1],[3,2]])#Chose an initial state\n",
    "    while not done:\n",
    "        reward = 0\n",
    "        if init_state == [0,0] or init_state == [3,3]:\n",
    "            done = True\n",
    "            reward = 0\n",
    "        action = random.choice(actions)\n",
    "        final_state = [0,0]\n",
    "        if action[0] + init_state[0] <=3 and action[0] + init_state[0] >=0 and action[1] + init_state[1] <=3 and action[1] + init_state[1] >=0 and done == False:\n",
    "            final_state[0] = init_state[0] + action[0]\n",
    "            final_state[1] = init_state[1] + action[1]\n",
    "            reward = -1\n",
    "        else:\n",
    "            final_state = init_state\n",
    "        if done == False:\n",
    "            episode.append([init_state , action , reward , final_state])\n",
    "            #print(init_state,'->',final_state,'..',action)\n",
    "        init_state = final_state\n",
    "    for i in enumerate(episode[::-1]):\n",
    "        g = gamma*g + i[1][2]\n",
    "        if i[1][0] not in [x[0] for x in episode[::-1][len(episode)-i[0]:]]:\n",
    "            returns[(i[1][0][0] , i[1][0][1])].append(g)\n",
    "            decay[(i[1][0][0] , i[1][0][1])].append(p_map[i[1][0][0] , i[1][0][1]] - np.average(returns[(i[1][0][0] , i[1][0][1])]))\n",
    "            p_map[i[1][0][0] , i[1][0][1]] = np.average(returns[(i[1][0][0] , i[1][0][1])])\n",
    "            \n",
    "    \n",
    "       \n",
    "        "
   ]
  },
  {
   "cell_type": "code",
   "execution_count": 80,
   "metadata": {},
   "outputs": [
    {
     "name": "stdout",
     "output_type": "stream",
     "text": [
      "[[ 0.         -1.31855445 -1.7604573  -1.54165458]\n",
      " [-1.32380655 -1.9547012  -2.10508762 -1.74463502]\n",
      " [-1.75476359 -2.11630769 -1.94551222 -1.30151672]\n",
      " [-1.55749754 -1.74969244 -1.32869514  0.        ]]\n"
     ]
    }
   ],
   "source": [
    "print(p_map)"
   ]
  },
  {
   "cell_type": "markdown",
   "metadata": {},
   "source": [
    "## Optimal Solution\n",
    "\n",
    "The above matrix provides the optimal solution to the problem.\n",
    "\n",
    "Now we plot the discount factor for gamma = 1"
   ]
  },
  {
   "cell_type": "code",
   "execution_count": 81,
   "metadata": {},
   "outputs": [],
   "source": [
    "#Print decay\n",
    "decay_rate = []\n",
    "for x in decay.values():\n",
    "    decay_rate.append(list(x)[:100])"
   ]
  },
  {
   "cell_type": "code",
   "execution_count": 82,
   "metadata": {},
   "outputs": [
    {
     "data": {
      "image/png": "[encoded data removed]",
      "text/plain": [
       "<Figure size 432x288 with 1 Axes>"
      ]
     },
     "metadata": {
      "needs_background": "light"
     },
     "output_type": "display_data"
    }
   ],
   "source": [
    "for i in decay_rate:\n",
    "    if len(i)!=0:\n",
    "        plt.plot(i)"
   ]
  }
 ],
 "metadata": {
  "kernelspec": {
   "display_name": "Python 3",
   "language": "python",
   "name": "python3"
  },
  "language_info": {
   "codemirror_mode": {
    "name": "ipython",
    "version": 3
   },
   "file_extension": ".py",
   "mimetype": "text/x-python",
   "name": "python",
   "nbconvert_exporter": "python",
   "pygments_lexer": "ipython3",
   "version": "3.8.2"
  }
 },
 "nbformat": 4,
 "nbformat_minor": 4
}
