{
 "cells": [
  {
   "cell_type": "code",
   "execution_count": 14,
   "metadata": {},
   "outputs": [
    {
     "name": "stdout",
     "output_type": "stream",
     "text": [
      "Populating the interactive namespace from numpy and matplotlib\n"
     ]
    }
   ],
   "source": [
    "%pylab inline"
   ]
  },
  {
   "cell_type": "markdown",
   "metadata": {},
   "source": [
    "## Solution\n",
    "\n",
    "We use iterative_RL in order to solve the Problem statement"
   ]
  },
  {
   "cell_type": "code",
   "execution_count": 15,
   "metadata": {},
   "outputs": [],
   "source": [
    "gamma = 1\n",
    "n_games = 10000\n",
    "end_points = array([[0,0] , [3,3]])"
   ]
  },
  {
   "cell_type": "code",
   "execution_count": 16,
   "metadata": {},
   "outputs": [],
   "source": [
    "actions = array([[-1,0] , [1,0] , [0,1] , [0,-1]])"
   ]
  },
  {
   "cell_type": "code",
   "execution_count": 17,
   "metadata": {},
   "outputs": [
    {
     "name": "stdout",
     "output_type": "stream",
     "text": [
      "[[-1  0]\n",
      " [ 1  0]\n",
      " [ 0  1]\n",
      " [ 0 -1]]\n"
     ]
    }
   ],
   "source": [
    "print(actions)"
   ]
  },
  {
   "cell_type": "code",
   "execution_count": 18,
   "metadata": {},
   "outputs": [
    {
     "name": "stdout",
     "output_type": "stream",
     "text": [
      "([3, 0], -1)\n"
     ]
    }
   ],
   "source": [
    "#We now write a reward for state,action pair\n",
    "def reward(state , action):\n",
    "    state_x = state\n",
    "    action_x = action\n",
    "    reward_x = -1\n",
    "    if state_x == [0,0] or state_x == [3,3]:\n",
    "        return state , 0\n",
    "    state_f = [0,0]\n",
    "    if state_x[0] + action_x[0]>=0 and state_x[0] + action_x[0]<=3 and state_x[1] + action_x[1]>=0 and state_x[1] + action_x[1]<=3:\n",
    "        state_f[0] = state_x[0] + action_x[0]\n",
    "        state_f[1] = state_x[1] + action_x[1]\n",
    "        return state_f , reward_x\n",
    "    return state_x , reward_x\n",
    "            \n",
    "    \n",
    "\n",
    "print(reward([3,0] , [1,0]))\n",
    "\n",
    "    "
   ]
  },
  {
   "cell_type": "code",
   "execution_count": 22,
   "metadata": {},
   "outputs": [
    {
     "name": "stdout",
     "output_type": "stream",
     "text": [
      "[[0, 0], [0, 1], [0, 2], [0, 3], [1, 0], [1, 1], [1, 2], [1, 3], [2, 0], [2, 1], [2, 2], [2, 3], [3, 0], [3, 1], [3, 2], [3, 3]]\n",
      "Wall time: 997 µs\n"
     ]
    }
   ],
   "source": [
    "\n",
    "q_table = np.zeros([4,4])\n",
    "q_table1 = q_table\n",
    "states = []\n",
    "for i in range(0,4):\n",
    "    for j in range(0,4):\n",
    "        states.append([i,j])\n",
    "print(states)"
   ]
  },
  {
   "cell_type": "code",
   "execution_count": 23,
   "metadata": {},
   "outputs": [
    {
     "name": "stdout",
     "output_type": "stream",
     "text": [
      "Wall time: 2.77 s\n"
     ]
    }
   ],
   "source": [
    "%%time\n",
    "#Evaluate Policy 1\n",
    "exp = []\n",
    "for i in range(0,n_games+1):\n",
    "    q_table1 = np.copy(q_table)\n",
    "    for state in states:\n",
    "        q_value = 0.0\n",
    "        for action in actions:\n",
    "            state1 , reward1 = reward(state,action)\n",
    "            #Use the formula\n",
    "            q_value += (((1/4) * (reward1 + gamma*(q_table[state1[0] , state1[1]]))))\n",
    "        q_table1[state[0] , state[1]] = q_value\n",
    "    q_table = np.copy(q_table1)\n",
    "    exp.append(q_table1)\n",
    "    \n",
    "            \n",
    "    \n",
    "    \n",
    "    \n",
    "    \n",
    "    \n",
    "    "
   ]
  },
  {
   "cell_type": "code",
   "execution_count": 24,
   "metadata": {},
   "outputs": [
    {
     "name": "stdout",
     "output_type": "stream",
     "text": [
      "[[  0. -14. -20. -22.]\n",
      " [-14. -18. -20. -20.]\n",
      " [-20. -20. -18. -14.]\n",
      " [-22. -20. -14.   0.]]\n"
     ]
    }
   ],
   "source": [
    "print(q_table)       "
   ]
  },
  {
   "cell_type": "markdown",
   "metadata": {},
   "source": [
    "## Optimal Solution\n",
    "\n",
    "The above matrix provides the optimal Solution for the problem. \n",
    "\n",
    "Now we plot decay for select cells"
   ]
  },
  {
   "cell_type": "code",
   "execution_count": 25,
   "metadata": {},
   "outputs": [],
   "source": [
    "#Decay rate experimentation\n",
    "decay = []\n",
    "decay1 = []\n",
    "decay2 = []\n",
    "decay3 = []\n",
    "for tables in range(1,len(exp)):\n",
    "    decay.append(exp[tables][1][0] - exp[tables-1][1][0])\n",
    "    decay1.append(exp[tables][2][0] - exp[tables-1][2][0])\n",
    "    decay2.append(exp[tables][2][1] - exp[tables-1][2][1])\n",
    "    decay3.append(exp[tables][1][2] - exp[tables-1][1][2])"
   ]
  },
  {
   "cell_type": "code",
   "execution_count": 26,
   "metadata": {},
   "outputs": [
    {
     "data": {
      "text/plain": [
       "[<matplotlib.lines.Line2D at 0x29ba714f730>]"
      ]
     },
     "execution_count": 26,
     "metadata": {},
     "output_type": "execute_result"
    },
    {
     "data": {
      "image/png": "[encoded data removed]",
      "text/plain": [
       "<Figure size 432x288 with 1 Axes>"
      ]
     },
     "metadata": {
      "needs_background": "light"
     },
     "output_type": "display_data"
    }
   ],
   "source": [
    "plt.plot(decay)\n",
    "plt.plot(decay1)\n",
    "plt.plot(decay2)\n",
    "plt.plot(decay3)"
   ]
  },
  {
   "cell_type": "markdown",
   "metadata": {},
   "source": [
    "## Observation\n",
    "\n",
    "All the values converge to zero nearly after 1000 iterations of the game"
   ]
  }
 ],
 "metadata": {
  "kernelspec": {
   "display_name": "Python 3",
   "language": "python",
   "name": "python3"
  },
  "language_info": {
   "codemirror_mode": {
    "name": "ipython",
    "version": 3
   },
   "file_extension": ".py",
   "mimetype": "text/x-python",
   "name": "python",
   "nbconvert_exporter": "python",
   "pygments_lexer": "ipython3",
   "version": "3.8.2"
  }
 },
 "nbformat": 4,
 "nbformat_minor": 4
}
